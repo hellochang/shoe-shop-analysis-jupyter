{
 "cells": [
  {
   "cell_type": "markdown",
   "id": "useful-celtic",
   "metadata": {
    "papermill": {
     "duration": 0.015618,
     "end_time": "2021-05-10T03:11:40.464270",
     "exception": false,
     "start_time": "2021-05-10T03:11:40.448652",
     "status": "completed"
    },
    "tags": []
   },
   "source": [
    "# Fall 2021 Data Science Intern Challenge \n",
    "## Question 1\n",
    "\n",
    "On Shopify, we have exactly 100 sneaker shops, and each of these shops sells only one model of shoe. We want to do some analysis of the average order value (AOV). When we look at orders data over a 30 day window, we naively calculate an AOV of \\\\$3145.13. Given that we know these shops are selling sneakers, a relatively affordable item, something seems wrong with our analysis. \n",
    "\n",
    "### a) Think about what could be going wrong with our calculation. Think about a better way to evaluate this data.\n",
    "### TL;DR: AOV \\\\$3145.13 is calculated wrong. Correct value is \\$357.92. Better way to evaluate this data is either to use median order value or remove the outliers.\n",
    "\n",
    "There are many things could go wrong while analysing data. The analyst may forgot to take the division, subseted the wrong column, or used the wrong formula. Or perhaps even the data was too skewed to get a meaningful result.\n",
    "\n",
    "First, let's make sure our calculation of average order value (AOV) is correct. AOV is the average amount of money spent on each order. To calculate AOV, we divide total revenue by the number of orders over a 30 day window."
   ]
  },
  {
   "cell_type": "code",
   "execution_count": 1,
   "id": "connected-thompson",
   "metadata": {
    "execution": {
     "iopub.execute_input": "2021-05-10T03:11:40.505377Z",
     "iopub.status.busy": "2021-05-10T03:11:40.504719Z",
     "iopub.status.idle": "2021-05-10T03:11:40.548711Z",
     "shell.execute_reply": "2021-05-10T03:11:40.549318Z"
    },
    "papermill": {
     "duration": 0.070729,
     "end_time": "2021-05-10T03:11:40.549638",
     "exception": false,
     "start_time": "2021-05-10T03:11:40.478909",
     "status": "completed"
    },
    "tags": []
   },
   "outputs": [
    {
     "name": "stdout",
     "output_type": "stream",
     "text": [
      "The actual value of AOV is 357.92152221412965\n"
     ]
    }
   ],
   "source": [
    "# Setup our environment\n",
    "import matplotlib.pyplot as plt\n",
    "import pandas as pd\n",
    "import numpy as np\n",
    "import warnings\n",
    "warnings.filterwarnings('ignore')\n",
    "shoe = pd.read_csv(r'../input/shopify-shoe-shop/shoe_shop.csv')\n",
    "\n",
    "# Make the calculation\n",
    "print(\"The actual value of AOV is\", shoe[\"order_amount\"].sum() / shoe[\"total_items\"].sum())"
   ]
  },
  {
   "cell_type": "markdown",
   "id": "crude-territory",
   "metadata": {
    "editable": false,
    "papermill": {
     "duration": 0.014888,
     "end_time": "2021-05-10T03:11:40.579976",
     "exception": false,
     "start_time": "2021-05-10T03:11:40.565088",
     "status": "completed"
    },
    "tags": []
   },
   "source": [
    "Here it goes!🎉 The calculation is wrong, our actual AOV is around $357.92. Our sneakers are a little expensive, but that's about the price for sneakers!\n",
    "\n",
    "Possibly, the given AOV $3145.13 is calculated by averaging the order amount of the 100 sneaker shops. So on average, our revenue is around \\\\$3145.13 per store. This could be an useful piece of information, but it is not how the AOV is calculated."
   ]
  },
  {
   "cell_type": "code",
   "execution_count": 2,
   "id": "electoral-mining",
   "metadata": {
    "_kg_hide-output": false,
    "editable": false,
    "execution": {
     "iopub.execute_input": "2021-05-10T03:11:40.616388Z",
     "iopub.status.busy": "2021-05-10T03:11:40.615611Z",
     "iopub.status.idle": "2021-05-10T03:11:40.619770Z",
     "shell.execute_reply": "2021-05-10T03:11:40.620729Z"
    },
    "papermill": {
     "duration": 0.026006,
     "end_time": "2021-05-10T03:11:40.620980",
     "exception": false,
     "start_time": "2021-05-10T03:11:40.594974",
     "status": "completed"
    },
    "tags": []
   },
   "outputs": [
    {
     "name": "stdout",
     "output_type": "stream",
     "text": [
      "Given AOV is 3145.128\n"
     ]
    }
   ],
   "source": [
    "print(\"Given AOV is\", shoe[\"order_amount\"].mean())"
   ]
  },
  {
   "cell_type": "markdown",
   "id": "foreign-passion",
   "metadata": {
    "editable": false,
    "papermill": {
     "duration": 0.014921,
     "end_time": "2021-05-10T03:11:40.652343",
     "exception": false,
     "start_time": "2021-05-10T03:11:40.637422",
     "status": "completed"
    },
    "tags": []
   },
   "source": [
    "Let's now take a look at how we could evaluate this data better."
   ]
  },
  {
   "cell_type": "code",
   "execution_count": 3,
   "id": "plain-cathedral",
   "metadata": {
    "execution": {
     "iopub.execute_input": "2021-05-10T03:11:40.690754Z",
     "iopub.status.busy": "2021-05-10T03:11:40.689901Z",
     "iopub.status.idle": "2021-05-10T03:11:40.990704Z",
     "shell.execute_reply": "2021-05-10T03:11:40.989548Z"
    },
    "papermill": {
     "duration": 0.323241,
     "end_time": "2021-05-10T03:11:40.990868",
     "exception": false,
     "start_time": "2021-05-10T03:11:40.667627",
     "status": "completed"
    },
    "tags": []
   },
   "outputs": [
    {
     "data": {
      "image/png": "[encoded data removed]",
      "text/plain": [
       "<Figure size 432x288 with 1 Axes>"
      ]
     },
     "metadata": {
      "needs_background": "light"
     },
     "output_type": "display_data"
    },
    {
     "data": {
      "image/png": "[encoded data removed]",
      "text/plain": [
       "<Figure size 432x288 with 1 Axes>"
      ]
     },
     "metadata": {
      "needs_background": "light"
     },
     "output_type": "display_data"
    }
   ],
   "source": [
    "shoe[\"order_amount\"].describe()\n",
    "shoe[\"total_items\"].describe()\n",
    "\n",
    "plt.title(\"Order Amount\")\n",
    "plt.boxplot(shoe[\"order_amount\"])\n",
    "plt.show()\n",
    "plt.title(\"Total Items For Each Order\")\n",
    "plt.boxplot(shoe[\"total_items\"])\n",
    "plt.show()"
   ]
  },
  {
   "cell_type": "markdown",
   "id": "binary-omaha",
   "metadata": {
    "papermill": {
     "duration": 0.017957,
     "end_time": "2021-05-10T03:11:41.026102",
     "exception": false,
     "start_time": "2021-05-10T03:11:41.008145",
     "status": "completed"
    },
    "tags": []
   },
   "source": [
    "Both order amount and total items has a really large standard deviation. Indeed, the max of order amount is more than 200 times the 75% percentile! Similarly, if we take a look at total items, someone ordered more than 2000  sneakers where most people only ordered less than 3 pairs. The data completely threw our boxplot off because the data is really skewed to customers that ordered expensive items and customers that ordered many shoes!\n",
    "\n",
    "Let's try to plot our data on log scale for a clearer visualization."
   ]
  },
  {
   "cell_type": "code",
   "execution_count": 4,
   "id": "frequent-placement",
   "metadata": {
    "execution": {
     "iopub.execute_input": "2021-05-10T03:11:41.093076Z",
     "iopub.status.busy": "2021-05-10T03:11:41.079351Z",
     "iopub.status.idle": "2021-05-10T03:11:42.350518Z",
     "shell.execute_reply": "2021-05-10T03:11:42.349887Z"
    },
    "papermill": {
     "duration": 1.307605,
     "end_time": "2021-05-10T03:11:42.350664",
     "exception": false,
     "start_time": "2021-05-10T03:11:41.043059",
     "status": "completed"
    },
    "tags": []
   },
   "outputs": [
    {
     "data": {
      "image/png": "[encoded data removed]",
      "text/plain": [
       "<Figure size 432x288 with 1 Axes>"
      ]
     },
     "metadata": {
      "needs_background": "light"
     },
     "output_type": "display_data"
    },
    {
     "data": {
      "image/png": "[encoded data removed]",
      "text/plain": [
       "<Figure size 432x288 with 1 Axes>"
      ]
     },
     "metadata": {
      "needs_background": "light"
     },
     "output_type": "display_data"
    }
   ],
   "source": [
    "# A function to plot histograms on log scale\n",
    "def plot_log_hist(x, bins):\n",
    "    hist, bins = np.histogram(x, bins=bins)\n",
    "    logbins = np.logspace(np.log10(bins[0]),np.log10(bins[-1]),len(bins))\n",
    "    plt.hist(x, bins=logbins)\n",
    "    plt.xscale('log')\n",
    "    plt.show()\n",
    " \n",
    "plt.title(\"Order Amount (Log)\")\n",
    "plot_log_hist(shoe[\"order_amount\"], 50)\n",
    "plt.title(\"Total Items (Log)\")\n",
    "plot_log_hist(shoe[\"total_items\"], 50)"
   ]
  },
  {
   "cell_type": "markdown",
   "id": "valued-astronomy",
   "metadata": {
    "papermill": {
     "duration": 0.01826,
     "end_time": "2021-05-10T03:11:42.387494",
     "exception": false,
     "start_time": "2021-05-10T03:11:42.369234",
     "status": "completed"
    },
    "tags": []
   },
   "source": [
    "Now it's much better! Let's take a count of the values to see what's up with the really large orders."
   ]
  },
  {
   "cell_type": "code",
   "execution_count": 5,
   "id": "inappropriate-conditioning",
   "metadata": {
    "execution": {
     "iopub.execute_input": "2021-05-10T03:11:42.440058Z",
     "iopub.status.busy": "2021-05-10T03:11:42.431643Z",
     "iopub.status.idle": "2021-05-10T03:11:42.444665Z",
     "shell.execute_reply": "2021-05-10T03:11:42.445162Z"
    },
    "papermill": {
     "duration": 0.039197,
     "end_time": "2021-05-10T03:11:42.445352",
     "exception": false,
     "start_time": "2021-05-10T03:11:42.406155",
     "status": "completed"
    },
    "tags": []
   },
   "outputs": [
    {
     "data": {
      "text/plain": [
       "2000      17\n",
       "8          1\n",
       "6          9\n",
       "5         77\n",
       "4        293\n",
       "3        941\n",
       "2       1832\n",
       "1       1830\n",
       "Name: total_items, dtype: int64"
      ]
     },
     "execution_count": 5,
     "metadata": {},
     "output_type": "execute_result"
    }
   ],
   "source": [
    "shoe['order_amount'].value_counts().sort_index(ascending = False).head(12)\n",
    "shoe['total_items'].value_counts().sort_index(ascending = False)"
   ]
  },
  {
   "cell_type": "markdown",
   "id": "amber-delight",
   "metadata": {
    "papermill": {
     "duration": 0.018585,
     "end_time": "2021-05-10T03:11:42.482984",
     "exception": false,
     "start_time": "2021-05-10T03:11:42.464399",
     "status": "completed"
    },
    "tags": []
   },
   "source": [
    "As we could see, we have a lot of orders of large amounts of sneakers. They are most likely factory customers that want to resell these sneakers later. We also have orders of really expensive shoes, those we won't need to worry about for our analysis because they are still relevant to AOV.\n",
    "\n",
    "Let's quickly confirm our hypothesis.\n"
   ]
  },
  {
   "cell_type": "code",
   "execution_count": 6,
   "id": "developmental-hygiene",
   "metadata": {
    "execution": {
     "iopub.execute_input": "2021-05-10T03:11:42.526898Z",
     "iopub.status.busy": "2021-05-10T03:11:42.526064Z",
     "iopub.status.idle": "2021-05-10T03:11:42.548794Z",
     "shell.execute_reply": "2021-05-10T03:11:42.548258Z"
    },
    "papermill": {
     "duration": 0.047232,
     "end_time": "2021-05-10T03:11:42.548937",
     "exception": false,
     "start_time": "2021-05-10T03:11:42.501705",
     "status": "completed"
    },
    "tags": []
   },
   "outputs": [
    {
     "data": {
      "text/html": [
       "<div>\n",
       "<style scoped>\n",
       "    .dataframe tbody tr th:only-of-type {\n",
       "        vertical-align: middle;\n",
       "    }\n",
       "\n",
       "    .dataframe tbody tr th {\n",
       "        vertical-align: top;\n",
       "    }\n",
       "\n",
       "    .dataframe thead th {\n",
       "        text-align: right;\n",
       "    }\n",
       "</style>\n",
       "<table border=\"1\" class=\"dataframe\">\n",
       "  <thead>\n",
       "    <tr style=\"text-align: right;\">\n",
       "      <th></th>\n",
       "      <th>order_id</th>\n",
       "      <th>shop_id</th>\n",
       "      <th>user_id</th>\n",
       "      <th>order_amount</th>\n",
       "      <th>total_items</th>\n",
       "      <th>payment_method</th>\n",
       "      <th>created_at</th>\n",
       "    </tr>\n",
       "  </thead>\n",
       "  <tbody>\n",
       "    <tr>\n",
       "      <th>2153</th>\n",
       "      <td>2154</td>\n",
       "      <td>42</td>\n",
       "      <td>607</td>\n",
       "      <td>704000</td>\n",
       "      <td>2000</td>\n",
       "      <td>credit_card</td>\n",
       "      <td>2017-03-12 4:00:00</td>\n",
       "    </tr>\n",
       "    <tr>\n",
       "      <th>3332</th>\n",
       "      <td>3333</td>\n",
       "      <td>42</td>\n",
       "      <td>607</td>\n",
       "      <td>704000</td>\n",
       "      <td>2000</td>\n",
       "      <td>credit_card</td>\n",
       "      <td>2017-03-24 4:00:00</td>\n",
       "    </tr>\n",
       "    <tr>\n",
       "      <th>520</th>\n",
       "      <td>521</td>\n",
       "      <td>42</td>\n",
       "      <td>607</td>\n",
       "      <td>704000</td>\n",
       "      <td>2000</td>\n",
       "      <td>credit_card</td>\n",
       "      <td>2017-03-02 4:00:00</td>\n",
       "    </tr>\n",
       "    <tr>\n",
       "      <th>1602</th>\n",
       "      <td>1603</td>\n",
       "      <td>42</td>\n",
       "      <td>607</td>\n",
       "      <td>704000</td>\n",
       "      <td>2000</td>\n",
       "      <td>credit_card</td>\n",
       "      <td>2017-03-17 4:00:00</td>\n",
       "    </tr>\n",
       "    <tr>\n",
       "      <th>60</th>\n",
       "      <td>61</td>\n",
       "      <td>42</td>\n",
       "      <td>607</td>\n",
       "      <td>704000</td>\n",
       "      <td>2000</td>\n",
       "      <td>credit_card</td>\n",
       "      <td>2017-03-04 4:00:00</td>\n",
       "    </tr>\n",
       "    <tr>\n",
       "      <th>2835</th>\n",
       "      <td>2836</td>\n",
       "      <td>42</td>\n",
       "      <td>607</td>\n",
       "      <td>704000</td>\n",
       "      <td>2000</td>\n",
       "      <td>credit_card</td>\n",
       "      <td>2017-03-28 4:00:00</td>\n",
       "    </tr>\n",
       "    <tr>\n",
       "      <th>4646</th>\n",
       "      <td>4647</td>\n",
       "      <td>42</td>\n",
       "      <td>607</td>\n",
       "      <td>704000</td>\n",
       "      <td>2000</td>\n",
       "      <td>credit_card</td>\n",
       "      <td>2017-03-02 4:00:00</td>\n",
       "    </tr>\n",
       "    <tr>\n",
       "      <th>2297</th>\n",
       "      <td>2298</td>\n",
       "      <td>42</td>\n",
       "      <td>607</td>\n",
       "      <td>704000</td>\n",
       "      <td>2000</td>\n",
       "      <td>credit_card</td>\n",
       "      <td>2017-03-07 4:00:00</td>\n",
       "    </tr>\n",
       "    <tr>\n",
       "      <th>1436</th>\n",
       "      <td>1437</td>\n",
       "      <td>42</td>\n",
       "      <td>607</td>\n",
       "      <td>704000</td>\n",
       "      <td>2000</td>\n",
       "      <td>credit_card</td>\n",
       "      <td>2017-03-11 4:00:00</td>\n",
       "    </tr>\n",
       "    <tr>\n",
       "      <th>4882</th>\n",
       "      <td>4883</td>\n",
       "      <td>42</td>\n",
       "      <td>607</td>\n",
       "      <td>704000</td>\n",
       "      <td>2000</td>\n",
       "      <td>credit_card</td>\n",
       "      <td>2017-03-25 4:00:00</td>\n",
       "    </tr>\n",
       "    <tr>\n",
       "      <th>4056</th>\n",
       "      <td>4057</td>\n",
       "      <td>42</td>\n",
       "      <td>607</td>\n",
       "      <td>704000</td>\n",
       "      <td>2000</td>\n",
       "      <td>credit_card</td>\n",
       "      <td>2017-03-28 4:00:00</td>\n",
       "    </tr>\n",
       "    <tr>\n",
       "      <th>15</th>\n",
       "      <td>16</td>\n",
       "      <td>42</td>\n",
       "      <td>607</td>\n",
       "      <td>704000</td>\n",
       "      <td>2000</td>\n",
       "      <td>credit_card</td>\n",
       "      <td>2017-03-07 4:00:00</td>\n",
       "    </tr>\n",
       "    <tr>\n",
       "      <th>1104</th>\n",
       "      <td>1105</td>\n",
       "      <td>42</td>\n",
       "      <td>607</td>\n",
       "      <td>704000</td>\n",
       "      <td>2000</td>\n",
       "      <td>credit_card</td>\n",
       "      <td>2017-03-24 4:00:00</td>\n",
       "    </tr>\n",
       "    <tr>\n",
       "      <th>1562</th>\n",
       "      <td>1563</td>\n",
       "      <td>42</td>\n",
       "      <td>607</td>\n",
       "      <td>704000</td>\n",
       "      <td>2000</td>\n",
       "      <td>credit_card</td>\n",
       "      <td>2017-03-19 4:00:00</td>\n",
       "    </tr>\n",
       "    <tr>\n",
       "      <th>2969</th>\n",
       "      <td>2970</td>\n",
       "      <td>42</td>\n",
       "      <td>607</td>\n",
       "      <td>704000</td>\n",
       "      <td>2000</td>\n",
       "      <td>credit_card</td>\n",
       "      <td>2017-03-28 4:00:00</td>\n",
       "    </tr>\n",
       "    <tr>\n",
       "      <th>4868</th>\n",
       "      <td>4869</td>\n",
       "      <td>42</td>\n",
       "      <td>607</td>\n",
       "      <td>704000</td>\n",
       "      <td>2000</td>\n",
       "      <td>credit_card</td>\n",
       "      <td>2017-03-22 4:00:00</td>\n",
       "    </tr>\n",
       "    <tr>\n",
       "      <th>1362</th>\n",
       "      <td>1363</td>\n",
       "      <td>42</td>\n",
       "      <td>607</td>\n",
       "      <td>704000</td>\n",
       "      <td>2000</td>\n",
       "      <td>credit_card</td>\n",
       "      <td>2017-03-15 4:00:00</td>\n",
       "    </tr>\n",
       "    <tr>\n",
       "      <th>691</th>\n",
       "      <td>692</td>\n",
       "      <td>78</td>\n",
       "      <td>878</td>\n",
       "      <td>154350</td>\n",
       "      <td>6</td>\n",
       "      <td>debit</td>\n",
       "      <td>2017-03-27 22:51:43</td>\n",
       "    </tr>\n",
       "    <tr>\n",
       "      <th>2492</th>\n",
       "      <td>2493</td>\n",
       "      <td>78</td>\n",
       "      <td>834</td>\n",
       "      <td>102900</td>\n",
       "      <td>4</td>\n",
       "      <td>debit</td>\n",
       "      <td>2017-03-04 4:37:34</td>\n",
       "    </tr>\n",
       "    <tr>\n",
       "      <th>3724</th>\n",
       "      <td>3725</td>\n",
       "      <td>78</td>\n",
       "      <td>766</td>\n",
       "      <td>77175</td>\n",
       "      <td>3</td>\n",
       "      <td>credit_card</td>\n",
       "      <td>2017-03-16 14:13:26</td>\n",
       "    </tr>\n",
       "    <tr>\n",
       "      <th>4420</th>\n",
       "      <td>4421</td>\n",
       "      <td>78</td>\n",
       "      <td>969</td>\n",
       "      <td>77175</td>\n",
       "      <td>3</td>\n",
       "      <td>debit</td>\n",
       "      <td>2017-03-09 15:21:35</td>\n",
       "    </tr>\n",
       "  </tbody>\n",
       "</table>\n",
       "</div>"
      ],
      "text/plain": [
       "      order_id  shop_id  user_id  order_amount  total_items payment_method  \\\n",
       "2153      2154       42      607        704000         2000    credit_card   \n",
       "3332      3333       42      607        704000         2000    credit_card   \n",
       "520        521       42      607        704000         2000    credit_card   \n",
       "1602      1603       42      607        704000         2000    credit_card   \n",
       "60          61       42      607        704000         2000    credit_card   \n",
       "2835      2836       42      607        704000         2000    credit_card   \n",
       "4646      4647       42      607        704000         2000    credit_card   \n",
       "2297      2298       42      607        704000         2000    credit_card   \n",
       "1436      1437       42      607        704000         2000    credit_card   \n",
       "4882      4883       42      607        704000         2000    credit_card   \n",
       "4056      4057       42      607        704000         2000    credit_card   \n",
       "15          16       42      607        704000         2000    credit_card   \n",
       "1104      1105       42      607        704000         2000    credit_card   \n",
       "1562      1563       42      607        704000         2000    credit_card   \n",
       "2969      2970       42      607        704000         2000    credit_card   \n",
       "4868      4869       42      607        704000         2000    credit_card   \n",
       "1362      1363       42      607        704000         2000    credit_card   \n",
       "691        692       78      878        154350            6          debit   \n",
       "2492      2493       78      834        102900            4          debit   \n",
       "3724      3725       78      766         77175            3    credit_card   \n",
       "4420      4421       78      969         77175            3          debit   \n",
       "\n",
       "               created_at  \n",
       "2153   2017-03-12 4:00:00  \n",
       "3332   2017-03-24 4:00:00  \n",
       "520    2017-03-02 4:00:00  \n",
       "1602   2017-03-17 4:00:00  \n",
       "60     2017-03-04 4:00:00  \n",
       "2835   2017-03-28 4:00:00  \n",
       "4646   2017-03-02 4:00:00  \n",
       "2297   2017-03-07 4:00:00  \n",
       "1436   2017-03-11 4:00:00  \n",
       "4882   2017-03-25 4:00:00  \n",
       "4056   2017-03-28 4:00:00  \n",
       "15     2017-03-07 4:00:00  \n",
       "1104   2017-03-24 4:00:00  \n",
       "1562   2017-03-19 4:00:00  \n",
       "2969   2017-03-28 4:00:00  \n",
       "4868   2017-03-22 4:00:00  \n",
       "1362   2017-03-15 4:00:00  \n",
       "691   2017-03-27 22:51:43  \n",
       "2492   2017-03-04 4:37:34  \n",
       "3724  2017-03-16 14:13:26  \n",
       "4420  2017-03-09 15:21:35  "
      ]
     },
     "execution_count": 6,
     "metadata": {},
     "output_type": "execute_result"
    }
   ],
   "source": [
    "shoe.sort_values(by='order_amount', ascending=False).head(21)"
   ]
  },
  {
   "cell_type": "markdown",
   "id": "excess-continuity",
   "metadata": {
    "papermill": {
     "duration": 0.019207,
     "end_time": "2021-05-10T03:11:42.587890",
     "exception": false,
     "start_time": "2021-05-10T03:11:42.568683",
     "status": "completed"
    },
    "tags": []
   },
   "source": [
    "Indeed! We have the same customer ordering 2000 shoes from the same shoe store repeatedly. This is likely a someone that wants to resell these shoes later. This messes up our data. \n",
    "\n",
    "To minimize the influence of these outliers, we could either take the median order value instead of the average order value **or** remove/change the value of outliers. In this case, we should remove the outliers instead of taking the median because the outliers form relationship in data that the AOV doesn't actually measure.\n",
    "\n",
    "Methods such as Z-score, windsorized estimators, robust statistics or bootstrapping are all useful for dealing with outliers. Here though, we'll just remove the outliers that lies outside of 1.5 times the interquatile range of our total_items ordered.\n"
   ]
  },
  {
   "cell_type": "code",
   "execution_count": 7,
   "id": "retained-federal",
   "metadata": {
    "execution": {
     "iopub.execute_input": "2021-05-10T03:11:42.636683Z",
     "iopub.status.busy": "2021-05-10T03:11:42.635946Z",
     "iopub.status.idle": "2021-05-10T03:11:42.778599Z",
     "shell.execute_reply": "2021-05-10T03:11:42.777812Z"
    },
    "papermill": {
     "duration": 0.171288,
     "end_time": "2021-05-10T03:11:42.778747",
     "exception": false,
     "start_time": "2021-05-10T03:11:42.607459",
     "status": "completed"
    },
    "tags": []
   },
   "outputs": [
    {
     "data": {
      "image/png": "[encoded data removed]",
      "text/plain": [
       "<Figure size 432x288 with 1 Axes>"
      ]
     },
     "metadata": {
      "needs_background": "light"
     },
     "output_type": "display_data"
    }
   ],
   "source": [
    "q1 = shoe[\"total_items\"].quantile(q=0.25)\n",
    "q2 = shoe[\"total_items\"].quantile(q=0.5)\n",
    "q3 = shoe[\"total_items\"].quantile(q=0.75)\n",
    "IQR = q3 - q1\n",
    "\n",
    "shoe_cleaned = shoe[(shoe[\"total_items\"] < (q2 + IQR * 1.5)) & (shoe[\"total_items\"] > (q2 - IQR * 1.5))]\n",
    "\n",
    "plt.title(\"Total Items For Each Order After Removing Outliers\")\n",
    "plt.boxplot(shoe_cleaned [\"total_items\"])\n",
    "plt.show()"
   ]
  },
  {
   "cell_type": "markdown",
   "id": "swiss-miami",
   "metadata": {
    "papermill": {
     "duration": 0.021137,
     "end_time": "2021-05-10T03:11:42.820999",
     "exception": false,
     "start_time": "2021-05-10T03:11:42.799862",
     "status": "completed"
    },
    "tags": []
   },
   "source": [
    "Here we go! Our boxplot is much better! We now have a dataframe that has fewer anamolies. Evaluating the data after removing anamolies is much more effective."
   ]
  },
  {
   "cell_type": "markdown",
   "id": "center-planet",
   "metadata": {
    "papermill": {
     "duration": 0.020024,
     "end_time": "2021-05-10T03:11:42.861531",
     "exception": false,
     "start_time": "2021-05-10T03:11:42.841507",
     "status": "completed"
    },
    "tags": []
   },
   "source": [
    "#### b) What metric would you report for this dataset? \n",
    "\n",
    "For this dataset, we only have information of orders of sneakers in 1 month. Hence, AOV is actually the most suited metric because we may able to compare the AOV for future months once we've collected more data.\n",
    "\n",
    "Hence, the metric I chose is the modified AOV after removing outliers (or median order value of the original dataset).\n",
    "#### c) What is its value?\n",
    "The modified AOV after removing outliers is 372.71."
   ]
  },
  {
   "cell_type": "code",
   "execution_count": 8,
   "id": "sensitive-juice",
   "metadata": {
    "execution": {
     "iopub.execute_input": "2021-05-10T03:11:42.908648Z",
     "iopub.status.busy": "2021-05-10T03:11:42.907710Z",
     "iopub.status.idle": "2021-05-10T03:11:42.913841Z",
     "shell.execute_reply": "2021-05-10T03:11:42.912790Z"
    },
    "papermill": {
     "duration": 0.032016,
     "end_time": "2021-05-10T03:11:42.914151",
     "exception": false,
     "start_time": "2021-05-10T03:11:42.882135",
     "status": "completed"
    },
    "tags": []
   },
   "outputs": [
    {
     "name": "stdout",
     "output_type": "stream",
     "text": [
      "The modified AOV is 372.7100853619981\n"
     ]
    }
   ],
   "source": [
    "print(\"The modified AOV is\", shoe_cleaned[\"order_amount\"].sum() / shoe_cleaned[\"total_items\"].sum())"
   ]
  },
  {
   "cell_type": "markdown",
   "id": "offshore-establishment",
   "metadata": {
    "papermill": {
     "duration": 0.021295,
     "end_time": "2021-05-10T03:11:42.957767",
     "exception": false,
     "start_time": "2021-05-10T03:11:42.936472",
     "status": "completed"
    },
    "tags": []
   },
   "source": [
    "## Question 2\n",
    "For this question you’ll need to use SQL. Follow this link to access the data set required for the challenge. Please use queries to answer the following questions. Paste your queries along with your final numerical answers below.\n",
    "\n",
    "#### a) How many orders were shipped by Speedy Express in total?\n",
    "#### Answer: 54\n",
    "\n"
   ]
  },
  {
   "cell_type": "code",
   "execution_count": 9,
   "id": "authorized-supervision",
   "metadata": {
    "execution": {
     "iopub.execute_input": "2021-05-10T03:11:43.006332Z",
     "iopub.status.busy": "2021-05-10T03:11:43.005532Z",
     "iopub.status.idle": "2021-05-10T03:11:43.012161Z",
     "shell.execute_reply": "2021-05-10T03:11:43.011502Z"
    },
    "papermill": {
     "duration": 0.032878,
     "end_time": "2021-05-10T03:11:43.012332",
     "exception": false,
     "start_time": "2021-05-10T03:11:42.979454",
     "status": "completed"
    },
    "tags": []
   },
   "outputs": [
    {
     "ename": "SyntaxError",
     "evalue": "invalid syntax (<ipython-input-9-73ed95af299e>, line 1)",
     "output_type": "error",
     "traceback": [
      "\u001b[0;36m  File \u001b[0;32m\"<ipython-input-9-73ed95af299e>\"\u001b[0;36m, line \u001b[0;32m1\u001b[0m\n\u001b[0;31m    SELECT COUNT(*), Orders.ShipperID, Shippers.ShipperName\u001b[0m\n\u001b[0m               ^\u001b[0m\n\u001b[0;31mSyntaxError\u001b[0m\u001b[0;31m:\u001b[0m invalid syntax\n"
     ]
    }
   ],
   "source": [
    "SELECT COUNT(*), Orders.ShipperID, Shippers.ShipperName\n",
    "FROM Orders\n",
    "INNER JOIN Shippers\n",
    "    ON Orders.ShipperID = Shippers.ShipperID\n",
    "GROUP BY Orders.ShipperID\n",
    "ORDER BY Orders.ShipperID;"
   ]
  },
  {
   "cell_type": "markdown",
   "id": "neural-norman",
   "metadata": {
    "papermill": {
     "duration": 0.021153,
     "end_time": "2021-05-10T03:11:43.055063",
     "exception": false,
     "start_time": "2021-05-10T03:11:43.033910",
     "status": "completed"
    },
    "tags": []
   },
   "source": [
    "#### b) What is the last name of the employee with the most orders?\n",
    "#### Answer: Peacock\n"
   ]
  },
  {
   "cell_type": "code",
   "execution_count": 10,
   "id": "anticipated-fireplace",
   "metadata": {
    "execution": {
     "iopub.execute_input": "2021-05-10T03:11:43.104428Z",
     "iopub.status.busy": "2021-05-10T03:11:43.103675Z",
     "iopub.status.idle": "2021-05-10T03:11:43.107149Z",
     "shell.execute_reply": "2021-05-10T03:11:43.107675Z"
    },
    "papermill": {
     "duration": 0.030444,
     "end_time": "2021-05-10T03:11:43.107852",
     "exception": false,
     "start_time": "2021-05-10T03:11:43.077408",
     "status": "completed"
    },
    "tags": []
   },
   "outputs": [
    {
     "ename": "SyntaxError",
     "evalue": "invalid syntax (<ipython-input-10-353e22e52cca>, line 1)",
     "output_type": "error",
     "traceback": [
      "\u001b[0;36m  File \u001b[0;32m\"<ipython-input-10-353e22e52cca>\"\u001b[0;36m, line \u001b[0;32m1\u001b[0m\n\u001b[0;31m    SELECT COUNT(*) AS TotalOrders, LastName\u001b[0m\n\u001b[0m               ^\u001b[0m\n\u001b[0;31mSyntaxError\u001b[0m\u001b[0;31m:\u001b[0m invalid syntax\n"
     ]
    }
   ],
   "source": [
    "SELECT COUNT(*) AS TotalOrders, LastName\n",
    "FROM Orders\n",
    "INNER JOIN Employees\n",
    "    ON Orders.EmployeeID = Employees.EmployeeID\n",
    "GROUP BY Employees.EmployeeID\n",
    "ORDER BY TotalOrders DESC\n",
    "Limit 1;"
   ]
  },
  {
   "cell_type": "markdown",
   "id": "announced-premises",
   "metadata": {
    "papermill": {
     "duration": 0.021741,
     "end_time": "2021-05-10T03:11:43.151855",
     "exception": false,
     "start_time": "2021-05-10T03:11:43.130114",
     "status": "completed"
    },
    "tags": []
   },
   "source": [
    "#### c) What product was ordered the most by customers in Germany?\n",
    "#### Answer: Boston Crab Meat"
   ]
  },
  {
   "cell_type": "code",
   "execution_count": 11,
   "id": "aggressive-marathon",
   "metadata": {
    "execution": {
     "iopub.execute_input": "2021-05-10T03:11:43.202293Z",
     "iopub.status.busy": "2021-05-10T03:11:43.201618Z",
     "iopub.status.idle": "2021-05-10T03:11:43.204923Z",
     "shell.execute_reply": "2021-05-10T03:11:43.205395Z"
    },
    "papermill": {
     "duration": 0.031607,
     "end_time": "2021-05-10T03:11:43.205580",
     "exception": false,
     "start_time": "2021-05-10T03:11:43.173973",
     "status": "completed"
    },
    "tags": []
   },
   "outputs": [
    {
     "ename": "SyntaxError",
     "evalue": "invalid syntax (<ipython-input-11-689b3cb455eb>, line 1)",
     "output_type": "error",
     "traceback": [
      "\u001b[0;36m  File \u001b[0;32m\"<ipython-input-11-689b3cb455eb>\"\u001b[0;36m, line \u001b[0;32m1\u001b[0m\n\u001b[0;31m    SELECT p.ProductName, SUM(Quantity) AS TotalOrders\u001b[0m\n\u001b[0m           ^\u001b[0m\n\u001b[0;31mSyntaxError\u001b[0m\u001b[0;31m:\u001b[0m invalid syntax\n"
     ]
    }
   ],
   "source": [
    "SELECT p.ProductName, SUM(Quantity) AS TotalOrders \n",
    "FROM Orders AS o\n",
    "INNER JOIN OrderDetails AS od \n",
    "    ON od.OrderID = o.OrderID\n",
    "INNER JOIN Products AS p\n",
    "    ON p.ProductID = od.ProductID\n",
    "INNER JOIN Customers AS c\n",
    "    ON c.CustomerID = o.CustomerID\n",
    "WHERE Country = \"Germany\" \n",
    "GROUP BY od.ProductId\n",
    "ORDER BY TotalOrders DESC\n",
    "LIMIT 1;"
   ]
  }
 ],
 "metadata": {
  "kernelspec": {
   "display_name": "Python 3",
   "language": "python",
   "name": "python3"
  },
  "language_info": {
   "codemirror_mode": {
    "name": "ipython",
    "version": 3
   },
   "file_extension": ".py",
   "mimetype": "text/x-python",
   "name": "python",
   "nbconvert_exporter": "python",
   "pygments_lexer": "ipython3",
   "version": "3.7.10"
  },
  "papermill": {
   "default_parameters": {},
   "duration": 12.548368,
   "end_time": "2021-05-10T03:11:43.939150",
   "environment_variables": {},
   "exception": null,
   "input_path": "__notebook__.ipynb",
   "output_path": "__notebook__.ipynb",
   "parameters": {},
   "start_time": "2021-05-10T03:11:31.390782",
   "version": "2.3.3"
  }
 },
 "nbformat": 4,
 "nbformat_minor": 5
}
